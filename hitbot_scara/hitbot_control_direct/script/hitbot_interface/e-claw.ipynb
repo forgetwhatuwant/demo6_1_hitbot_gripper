{
 "cells": [
  {
   "cell_type": "code",
   "execution_count": 1,
   "id": "0566227f-10fe-4228-9717-d4b7eb7941c0",
   "metadata": {},
   "outputs": [],
   "source": [
    "import time\n",
    "import signal\n",
    "import sys\n",
    "import os\n",
    "from ctypes import c_char_p, addressof, POINTER, c_char\n",
    "lib_path = \"./\"\n",
    "sys.path.append(lib_path)\n",
    "from HitbotInterface import HitbotInterface\n",
    "%load_ext autoreload\n",
    "%autoreload 2"
   ]
  },
  {
   "cell_type": "code",
   "execution_count": 2,
   "id": "0deb7533-0858-4f97-b7f2-b382a03e04b1",
   "metadata": {},
   "outputs": [
    {
     "name": "stdout",
     "output_type": "stream",
     "text": [
      "receiving datagrams...\n"
     ]
    }
   ],
   "source": [
    "robot_id = 190\n",
    "robot = HitbotInterface(robot_id)\n",
    "initialized = robot.net_port_initial(os.path.abspath(lib_path))\n",
    "# this if the flag of network set up\n",
    "ret = robot.is_connect()\n",
    "# ret = robot.initial(1, 410)"
   ]
  },
  {
   "cell_type": "code",
   "execution_count": 3,
   "id": "8c41e9f7-e911-4960-91a4-a37df2d27464",
   "metadata": {},
   "outputs": [
    {
     "name": "stdout",
     "output_type": "stream",
     "text": [
      "initial:  8\n"
     ]
    }
   ],
   "source": [
    "ret = robot.com485_initial(115200)\n",
    "print(\"initial: \", ret)"
   ]
  },
  {
   "cell_type": "code",
   "execution_count": 4,
   "id": "7f5a8221-7343-46cc-97fb-d5eac40d4836",
   "metadata": {},
   "outputs": [
    {
     "data": {
      "text/plain": [
       "b'\\x01\\x10\\x00\\x04\\x00\\x02\\x04CH\\x00\\x00g\\xce'"
      ]
     },
     "execution_count": 4,
     "metadata": {},
     "output_type": "execute_result"
    }
   ],
   "source": [
    "set_speed_cmd = b'\\x01\\x10\\x00\\x04\\x00\\x02\\x04\\x43\\x48\\x00\\x00\\x67\\xCE'\n",
    "close_cmd = b'\\x01\\x10\\x00\\x02\\x00\\x02\\x04\\x00\\x00\\x00\\x00\\x72\\x76'\n",
    "# data_open_array = b'\\x01\\x10\\x00\\x02\\x00\\x02\\x04\\x41\\xA0\\x00\\x00\\x66\\x68'\n",
    "# data_open_array = b'\\x01\\x06\\x00\\x00\\x00\\x01\\x48\\x0A'\n",
    "# close_cmd = close_cmd.decode(\"utf-8\")\n",
    "# set_speed_cmd = set_speed_cmd.decode(\"utf-8\")\n",
    "set_speed_cmd"
   ]
  },
  {
   "cell_type": "code",
   "execution_count": 5,
   "id": "0e241e7f-33db-44fb-a899-89c5431991a7",
   "metadata": {},
   "outputs": [
    {
     "data": {
      "text/plain": [
       "13"
      ]
     },
     "execution_count": 5,
     "metadata": {},
     "output_type": "execute_result"
    }
   ],
   "source": [
    "len(close_cmd)"
   ]
  },
  {
   "cell_type": "code",
   "execution_count": 6,
   "id": "6df63b55-b21a-4351-88ac-dab4fc367e57",
   "metadata": {},
   "outputs": [
    {
     "name": "stdout",
     "output_type": "stream",
     "text": [
      "crc=17\n",
      "1 16 0 2 0 2 4 0 13 return value: -1\n"
     ]
    },
    {
     "name": "stdout",
     "output_type": "stream",
     "text": [
      "send heart data 2 ...\n",
      "recv heart data 2 ...\n",
      "send heart data 3 ...\n",
      "recv heart data 3 ...\n",
      "send heart data 4 ...\n",
      "recv heart data 4 ...\n",
      "send heart data 5 ...\n",
      "recv heart data 5 ...\n",
      "send heart data 6 ...\n",
      "recv heart data 6 ...\n",
      "send heart data 7 ...\n",
      "recv heart data 7 ...\n",
      "send heart data 8 ...\n",
      "recv heart data 8 ...\n",
      "send heart data 9 ...\n",
      "recv heart data 9 ...\n",
      "send heart data 10 ...\n",
      "recv heart data 10 ...\n",
      "send heart data 11 ...\n",
      "recv heart data 11 ...\n",
      "send heart data 12 ...\n",
      "recv heart data 12 ...\n",
      "send heart data 13 ...\n",
      "recv heart data 13 ...\n",
      "send heart data 14 ...\n",
      "recv heart data 14 ...\n",
      "send heart data 15 ...\n",
      "recv heart data 15 ...\n",
      "send heart data 16 ...\n",
      "recv heart data 16 ...\n",
      "send heart data 17 ...\n",
      "recv heart data 17 ...\n",
      "send heart data 18 ...\n",
      "recv heart data 18 ...\n",
      "send heart data 19 ...\n",
      "recv heart data 19 ...\n",
      "send heart data 20 ...\n",
      "recv heart data 20 ...\n",
      "send heart data 21 ...\n",
      "recv heart data 21 ...\n",
      "send heart data 22 ...\n",
      "recv heart data 22 ...\n",
      "send heart data 23 ...\n",
      "recv heart data 23 ...\n",
      "send heart data 24 ...\n",
      "recv heart data 24 ...\n",
      "send heart data 25 ...\n",
      "recv heart data 25 ...\n",
      "send heart data 26 ...\n",
      "recv heart data 26 ...\n",
      "send heart data 27 ...\n",
      "recv heart data 27 ...\n",
      "send heart data 28 ...\n",
      "recv heart data 28 ...\n",
      "send heart data 29 ...\n",
      "recv heart data 29 ...\n",
      "send heart data 30 ...\n",
      "recv heart data 30 ...\n",
      "send heart data 31 ...\n",
      "recv heart data 31 ...\n",
      "send heart data 32 ...\n",
      "recv heart data 32 ...\n",
      "send heart data 33 ...\n",
      "recv heart data 33 ...\n",
      "send heart data 34 ...\n",
      "recv heart data 34 ...\n",
      "send heart data 35 ...\n",
      "recv heart data 35 ...\n",
      "send heart data 36 ...\n",
      "recv heart data 36 ...\n",
      "send heart data 37 ...\n",
      "recv heart data 37 ...\n",
      "send heart data 38 ...\n",
      "recv heart data 38 ...\n",
      "send heart data 39 ...\n",
      "recv heart data 39 ...\n",
      "send heart data 40 ...\n",
      "recv heart data 40 ...\n",
      "send heart data 41 ...\n",
      "recv heart data 41 ...\n",
      "send heart data 42 ...\n",
      "recv heart data 42 ...\n",
      "send heart data 43 ...\n",
      "recv heart data 43 ...\n",
      "send heart data 44 ...\n",
      "recv heart data 44 ...\n",
      "send heart data 45 ...\n",
      "recv heart data 45 ...\n",
      "send heart data 46 ...\n",
      "recv heart data 46 ...\n",
      "send heart data 47 ...\n",
      "recv heart data 47 ...\n",
      "send heart data 48 ...\n",
      "recv heart data 48 ...\n",
      "send heart data 49 ...\n",
      "recv heart data 49 ...\n",
      "send heart data 50 ...\n",
      "recv heart data 50 ...\n",
      "send heart data 51 ...\n",
      "recv heart data 51 ...\n",
      "send heart data 52 ...\n",
      "recv heart data 52 ...\n",
      "send heart data 53 ...\n",
      "recv heart data 53 ...\n",
      "send heart data 54 ...\n",
      "recv heart data 54 ...\n",
      "send heart data 55 ...\n",
      "recv heart data 55 ...\n",
      "send heart data 56 ...\n",
      "recv heart data 56 ...\n",
      "send heart data 57 ...\n",
      "recv heart data 57 ...\n",
      "send heart data 58 ...\n",
      "recv heart data 58 ...\n",
      "send heart data 59 ...\n",
      "recv heart data 59 ...\n",
      "send heart data 60 ...\n",
      "recv heart data 60 ...\n",
      "send heart data 61 ...\n",
      "recv heart data 61 ...\n",
      "send heart data 62 ...\n",
      "recv heart data 62 ...\n",
      "send heart data 63 ...\n",
      "recv heart data 63 ...\n",
      "send heart data 64 ...\n",
      "recv heart data 64 ...\n"
     ]
    }
   ],
   "source": [
    "# ret_value = robot.com485_send(set_speed_cmd, len(set_speed_cmd))\n",
    "ret_value = robot.com485_send(close_cmd, len(close_cmd))\n",
    "print(\"return value:\",ret_value)"
   ]
  },
  {
   "cell_type": "markdown",
   "id": "85d1ea34",
   "metadata": {},
   "source": []
  },
  {
   "cell_type": "code",
   "execution_count": 29,
   "id": "edb35d6b-d7dc-4387-ab04-6f315aea1bb9",
   "metadata": {},
   "outputs": [
    {
     "data": {
      "text/plain": [
       "c_char_p(140252164808480)"
      ]
     },
     "execution_count": 29,
     "metadata": {},
     "output_type": "execute_result"
    }
   ],
   "source": [
    "c_char_p(set_speed_cmd)"
   ]
  },
  {
   "cell_type": "code",
   "execution_count": 16,
   "id": "33297bdc-5b1e-452d-befe-698f3d5cd9cd",
   "metadata": {},
   "outputs": [
    {
     "data": {
      "text/plain": [
       "b'\\r'"
      ]
     },
     "execution_count": 16,
     "metadata": {},
     "output_type": "execute_result"
    }
   ],
   "source": [
    "c_char(13).value"
   ]
  },
  {
   "cell_type": "code",
   "execution_count": 11,
   "id": "87e11a98-ed7c-440c-bedd-3b79d4b8b11d",
   "metadata": {},
   "outputs": [
    {
     "name": "stdout",
     "output_type": "stream",
     "text": [
      "crc=46\n"
     ]
    }
   ],
   "source": [
    "close=[0x01,0x10,0x00,0x02,0x00,0x02,0x04,0x00,0x00,0x00,0x00,0x72,0x76]\n",
    "str_close = \"\".join([chr(x) for x in close])\n",
    "ret_value = robot.com485_send(id(str_close), 13)\n"
   ]
  },
  {
   "cell_type": "code",
   "execution_count": 30,
   "id": "436a89de-dc29-4d45-b2c3-7cbf99442e8e",
   "metadata": {},
   "outputs": [
    {
     "data": {
      "text/plain": [
       "13"
      ]
     },
     "execution_count": 30,
     "metadata": {},
     "output_type": "execute_result"
    }
   ],
   "source": [
    "len(data_open_array)"
   ]
  },
  {
   "cell_type": "code",
   "execution_count": null,
   "id": "80595464-69db-4069-a1d3-00d2c34f8370",
   "metadata": {},
   "outputs": [],
   "source": []
  },
  {
   "cell_type": "code",
   "execution_count": null,
   "id": "52126402-47a8-4391-acdc-e201860c08dd",
   "metadata": {},
   "outputs": [
    {
     "name": "stdout",
     "output_type": "stream",
     "text": [
      "1 0 0 0 0 0 0 0 13 crc=183\n"
     ]
    }
   ],
   "source": [
    "ret_value = robot.com485_send(id(id(data_open_cmd)), len(data_open_cmd))\n",
    "print(\"return value:\",ret_value)"
   ]
  },
  {
   "cell_type": "code",
   "execution_count": 9,
   "id": "a6178bfe-5818-448e-bb08-1792eda282fd",
   "metadata": {},
   "outputs": [
    {
     "data": {
      "text/plain": [
       "b''"
      ]
     },
     "execution_count": 9,
     "metadata": {},
     "output_type": "execute_result"
    }
   ],
   "source": [
    "data = b''\n",
    "robot.com485_recv(data)\n",
    "data"
   ]
  },
  {
   "cell_type": "code",
   "execution_count": null,
   "id": "4fa7d9d3-116f-40d5-9f79-ff5505f0d4dc",
   "metadata": {},
   "outputs": [],
   "source": []
  },
  {
   "cell_type": "code",
   "execution_count": null,
   "id": "88a26a06-a968-47f3-9635-7ff4cb81317b",
   "metadata": {},
   "outputs": [],
   "source": []
  }
 ],
 "metadata": {
  "kernelspec": {
   "display_name": "py38",
   "language": "python",
   "name": "py38"
  },
  "language_info": {
   "codemirror_mode": {
    "name": "ipython",
    "version": 3
   },
   "file_extension": ".py",
   "mimetype": "text/x-python",
   "name": "python",
   "nbconvert_exporter": "python",
   "pygments_lexer": "ipython3",
   "version": "3.8.17"
  }
 },
 "nbformat": 4,
 "nbformat_minor": 5
}
